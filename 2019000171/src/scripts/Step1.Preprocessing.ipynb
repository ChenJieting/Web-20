{
 "cells": [
  {
   "cell_type": "markdown",
   "metadata": {},
   "source": [
    "# 1.1 分词"
   ]
  },
  {
   "cell_type": "code",
   "execution_count": 1,
   "metadata": {},
   "outputs": [],
   "source": [
    "import jieba\n",
    "import pandas as pd\n",
    "import tqdm\n",
    "from harvesttext import HarvestText\n",
    "\n",
    "ht = HarvestText()"
   ]
  },
  {
   "cell_type": "code",
   "execution_count": 2,
   "metadata": {},
   "outputs": [],
   "source": [
    "df = pd.read_excel(\"uzi_all_label_data.xlsx\")"
   ]
  },
  {
   "cell_type": "code",
   "execution_count": 3,
   "metadata": {},
   "outputs": [],
   "source": [
    "stopwords = []\n",
    "fi = open(\"stopwords.txt\").readlines()\n",
    "stopwords = [word.strip() for word in fi]"
   ]
  },
  {
   "cell_type": "code",
   "execution_count": 5,
   "metadata": {},
   "outputs": [
    {
     "name": "stderr",
     "output_type": "stream",
     "text": [
      "  0%|          | 0/6143 [00:00<?, ?it/s]Building prefix dict from the default dictionary ...\n",
      "Loading model from cache /tmp/jieba.cache\n",
      "Loading model cost 1.124 seconds.\n",
      "Prefix dict has been built successfully.\n",
      "100%|██████████| 6143/6143 [00:13<00:00, 464.74it/s]\n"
     ]
    }
   ],
   "source": [
    "words = set()\n",
    "for i in tqdm.tqdm(range(len(df))):\n",
    "    txt = df[\"标题+内容摘要\"][i]\n",
    "    txt = ht.clean_text(txt)\n",
    "    temp = list(jieba.cut(txt, cut_all=False))\n",
    "    for word in temp:\n",
    "        if word not in stopwords:\n",
    "            words.add(word)"
   ]
  },
  {
   "cell_type": "code",
   "execution_count": 6,
   "metadata": {},
   "outputs": [],
   "source": [
    "word2index = {word:i for i, word in enumerate(list(words), 1)}    "
   ]
  },
  {
   "cell_type": "code",
   "execution_count": 7,
   "metadata": {},
   "outputs": [
    {
     "data": {
      "text/plain": [
       "16295"
      ]
     },
     "execution_count": 7,
     "metadata": {},
     "output_type": "execute_result"
    }
   ],
   "source": [
    "len(word2index)"
   ]
  },
  {
   "cell_type": "markdown",
   "metadata": {},
   "source": [
    "# 1.2 向量化"
   ]
  },
  {
   "cell_type": "code",
   "execution_count": 8,
   "metadata": {},
   "outputs": [],
   "source": [
    "import numpy as np"
   ]
  },
  {
   "cell_type": "code",
   "execution_count": 8,
   "metadata": {},
   "outputs": [
    {
     "name": "stderr",
     "output_type": "stream",
     "text": [
      "100%|██████████| 1500/1500 [00:03<00:00, 493.65it/s]\n"
     ]
    }
   ],
   "source": [
    "avg_len = 0\n",
    "max_len = 0\n",
    "vectors = []\n",
    "for i in tqdm.tqdm(range(len(df))):\n",
    "    txt = df[\"标题+内容摘要\"][i]\n",
    "    txt = ht.clean_text(txt)\n",
    "    temp = list(jieba.cut(txt, cut_all=False))\n",
    "    vec = []\n",
    "    for word in temp:\n",
    "        if word not in stopwords:\n",
    "            vec.append(word2index[word])\n",
    "    vectors.append(vec)\n",
    "    avg_len += len(vec)\n",
    "    max_len = max_len if len(vec) < max_len else len(vec)\n",
    "avg_len = avg"
   ]
  },
  {
   "cell_type": "code",
   "execution_count": 10,
   "metadata": {},
   "outputs": [],
   "source": [
    "max_len = 20"
   ]
  },
  {
   "cell_type": "code",
   "execution_count": 11,
   "metadata": {},
   "outputs": [],
   "source": [
    "for i, vec in enumerate(vectors):\n",
    "    if len(vec) > max_len:\n",
    "        vectors[i] = vec[:max_len]\n",
    "    else:\n",
    "        padding = list(np.zeros((max_len-len(vec)), dtype=int))\n",
    "        vectors[i] = vec + padding"
   ]
  },
  {
   "cell_type": "code",
   "execution_count": 12,
   "metadata": {},
   "outputs": [],
   "source": [
    "with open(\"uzi_data.txt\", \"w\") as fo:\n",
    "    for i, vec in enumerate(vectors):\n",
    "        label = df[\"Label\"][i]\n",
    "        vector = \",\".join([str(v) for v in vec])\n",
    "        line = vector+\"\\t\"+str(label)+\"\\n\"\n",
    "        fo.write(line)"
   ]
  },
  {
   "cell_type": "code",
   "execution_count": null,
   "metadata": {},
   "outputs": [],
   "source": []
  }
 ],
 "metadata": {
  "kernelspec": {
   "display_name": "Python 3",
   "language": "python",
   "name": "python3"
  },
  "language_info": {
   "codemirror_mode": {
    "name": "ipython",
    "version": 3
   },
   "file_extension": ".py",
   "mimetype": "text/x-python",
   "name": "python",
   "nbconvert_exporter": "python",
   "pygments_lexer": "ipython3",
   "version": "3.6.10"
  }
 },
 "nbformat": 4,
 "nbformat_minor": 4
}
